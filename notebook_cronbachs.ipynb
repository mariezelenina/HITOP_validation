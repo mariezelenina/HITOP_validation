{
 "cells": [
  {
   "cell_type": "code",
   "execution_count": 1,
   "id": "26e71bad-ba61-457a-b44a-a11b7a23fe43",
   "metadata": {},
   "outputs": [],
   "source": [
    "import pandas as pd\n",
    "pd.set_option('max_colwidth', 100)\n",
    "import numpy as np\n",
    "import matplotlib.pyplot as plt\n",
    "from sklearn import svm, datasets\n",
    "from sklearn.model_selection import train_test_split\n",
    "from sklearn.preprocessing import label_binarize\n",
    "from sklearn.multiclass import OneVsRestClassifier\n",
    "from sklearn.metrics import confusion_matrix\n",
    "import itertools\n",
    "import scipy.stats as st\n",
    "import pandas as pd\n",
    "import numpy as np\n",
    "from scipy import stats\n",
    "from sklearn.feature_selection import mutual_info_classif\n",
    "import seaborn as sns\n",
    "from matplotlib import pyplot as plt\n",
    "%matplotlib inline\n",
    "pd.set_option('display.max_rows', 100)\n",
    "pd.set_option('display.max_columns', 500)\n",
    "import rpy2"
   ]
  },
  {
   "cell_type": "code",
   "execution_count": 2,
   "id": "f9c3d01e-ae06-4d33-a96a-c7643ad20ac7",
   "metadata": {},
   "outputs": [],
   "source": [
    "cr_genpop_initial = [0.9270709580175067, 0.9296597846990575, 0.8399080715067934, 0.7602864563114332, 0.8875469264093431, \n",
    "                     0.7945745320905466, 0.8698963934391198, 0.8466070241899196, 0.8359152282867471, 0.8716746175441954, 0.8863101926223523, \n",
    "                     0.677965121434933, 0.9348954956933418, 0.9163222295164032, 0.9640204607873396, 0.9206905663341307, 0.7966861592799777, \n",
    "                     0.8083734923149033, 0.9333825316993192, 0.903888252982057, 0.9308788922150156, 0.8978058255721241]"
   ]
  },
  {
   "cell_type": "code",
   "execution_count": 3,
   "id": "f0c4bd8a-1531-4001-adde-7d9bcd004235",
   "metadata": {},
   "outputs": [],
   "source": [
    "cr_genpop_recontact = [0.9812625404402372, 0.9793763074762203, 0.9609651272168733, 0.9338987746348344, 0.970414836761239, \n",
    "                       0.9672810713210958, 0.9671346514452426, 0.9611771285846724, 0.9661224291520453, 0.9711302260983105, 0.9720670308071521, \n",
    "                       0.9379737599101946, 0.9830479940460711, 0.9846201616897998, 0.9954953799561221, 0.9822234049888869, 0.9602928074809186, \n",
    "                       0.9653616096245594, 0.9888726675423083, 0.9793174367285693, 0.9799736541660642, 0.9753232366618018]\n"
   ]
  },
  {
   "cell_type": "code",
   "execution_count": 4,
   "id": "a9925e57-a4fc-43ef-8371-3b8d78bdf4b1",
   "metadata": {},
   "outputs": [],
   "source": [
    "cr_enriched_initial = [0.8703569416024346, 0.8873297387376222, 0.889513023691257, 0.7457979165867892, 0.8393586296185639, \n",
    "                       0.8483159102980278, 0.8770468404557714, 0.7955185546376186, 0.7906563670730612, 0.802463885040682, 0.8794734840473334, \n",
    "                       0.7230214116925827, 0.9182526856314999, 0.8910914788217521, 0.9479464215311545, 0.8755644527064869, 0.7865238895468021, \n",
    "                       0.8523851457570957, 0.8941700733543825, 0.8521772924708648, 0.8789325610561239, 0.8502741074050689]\n"
   ]
  },
  {
   "cell_type": "code",
   "execution_count": 5,
   "id": "5591cd0f-f0ef-45f8-8952-2d5b66d57d6c",
   "metadata": {},
   "outputs": [],
   "source": [
    "cr_enriched_recontact = [0.9781522942739654, 0.9776890792649197, 0.9680672713324846, 0.9150703033847256, 0.9691951882276979, \n",
    "                         0.9629887685017013, 0.9730449460145633, 0.9501795603429053, 0.9536848164343616, 0.9596265052103125, 0.9660240527886375, \n",
    "                         0.922163846224593, 0.9781124757034318, 0.9784246424761738, 0.9948670391407666, 0.9789021740675133, 0.9464845460371221, \n",
    "                         0.9571437791578647, 0.9831447798521514, 0.9722461255321062, 0.9723039911224969, 0.9693809999356708]\n"
   ]
  },
  {
   "cell_type": "code",
   "execution_count": 7,
   "id": "ae927678-ab91-4cf9-a360-7931dbe9d0cd",
   "metadata": {},
   "outputs": [
    {
     "name": "stdout",
     "output_type": "stream",
     "text": [
      "Genpop initial vs Enriched initial\n"
     ]
    },
    {
     "data": {
      "text/plain": [
       "TtestResult(statistic=1.0525663973074317, pvalue=0.2985579920659762, df=42.0)"
      ]
     },
     "execution_count": 7,
     "metadata": {},
     "output_type": "execute_result"
    }
   ],
   "source": [
    "print('Genpop initial vs Enriched initial')\n",
    "stats.ttest_ind(cr_genpop_initial, cr_enriched_initial)"
   ]
  },
  {
   "cell_type": "code",
   "execution_count": 8,
   "id": "9d39460a-00c3-4ac4-aac1-2b399c162811",
   "metadata": {},
   "outputs": [
    {
     "name": "stdout",
     "output_type": "stream",
     "text": [
      "Genpop recontact vs Enriched recontact\n"
     ]
    },
    {
     "data": {
      "text/plain": [
       "TtestResult(statistic=1.2160333736411348, pvalue=0.23076278009448686, df=42.0)"
      ]
     },
     "execution_count": 8,
     "metadata": {},
     "output_type": "execute_result"
    }
   ],
   "source": [
    "print('Genpop recontact vs Enriched recontact')\n",
    "stats.ttest_ind(cr_genpop_recontact, cr_enriched_recontact)"
   ]
  },
  {
   "cell_type": "code",
   "execution_count": null,
   "id": "067b6baa-72e7-4498-9923-eb9499166f13",
   "metadata": {},
   "outputs": [],
   "source": []
  }
 ],
 "metadata": {
  "kernelspec": {
   "display_name": "Python 3 (ipykernel)",
   "language": "python",
   "name": "python3"
  },
  "language_info": {
   "codemirror_mode": {
    "name": "ipython",
    "version": 3
   },
   "file_extension": ".py",
   "mimetype": "text/x-python",
   "name": "python",
   "nbconvert_exporter": "python",
   "pygments_lexer": "ipython3",
   "version": "3.9.6"
  }
 },
 "nbformat": 4,
 "nbformat_minor": 5
}
